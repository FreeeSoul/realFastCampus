{
  "nbformat": 4,
  "nbformat_minor": 0,
  "metadata": {
    "colab": {
      "name": "4_ch1_7.ipynb",
      "provenance": [],
      "collapsed_sections": [],
      "mount_file_id": "1DsyJTY7dFroGLUzv6NxlRkaKKa7is9-l",
      "authorship_tag": "ABX9TyMrq+k1elksmK+yGLppKGB6",
      "include_colab_link": true
    },
    "kernelspec": {
      "name": "python3",
      "display_name": "Python 3"
    },
    "language_info": {
      "name": "python"
    },
    "accelerator": "GPU",
    "gpuClass": "standard"
  },
  "cells": [
    {
      "cell_type": "markdown",
      "metadata": {
        "id": "view-in-github",
        "colab_type": "text"
      },
      "source": [
        "<a href=\"https://colab.research.google.com/github/FreeeSoul/realFastCampus/blob/main/4_ch1_7.ipynb\" target=\"_parent\"><img src=\"https://colab.research.google.com/assets/colab-badge.svg\" alt=\"Open In Colab\"/></a>"
      ]
    },
    {
      "cell_type": "code",
      "execution_count": 1,
      "metadata": {
        "id": "flovoTUWfhQq"
      },
      "outputs": [],
      "source": [
        "import tensorflow as tf\n",
        "from tensorflow import keras\n",
        "import numpy as np\n",
        "import matplotlib.pyplot as plt"
      ]
    },
    {
      "cell_type": "code",
      "source": [
        "print(tf.__version__)"
      ],
      "metadata": {
        "colab": {
          "base_uri": "https://localhost:8080/"
        },
        "id": "JEDQVd4GjTMd",
        "outputId": "7e13dd17-e59b-478b-8a55-67824ecd3642"
      },
      "execution_count": 2,
      "outputs": [
        {
          "output_type": "stream",
          "name": "stdout",
          "text": [
            "2.8.2\n"
          ]
        }
      ]
    },
    {
      "cell_type": "code",
      "source": [
        "batch_size = 120\n",
        "# batch 개수 의미 --> 몇 번 학습 마다 데이터 새로 가져올지.. 예비모의고사 10회 풀 때도\n",
        "#10회를 한꺼번에 쭉 풀고 전부 한꺼번에 채점하는거보다 3회풀고 채점 후 재정비하고 다시 3회풀고 이러는게\n",
        "#점수 더 잘나옴\n",
        "epochs = 100\n",
        "num_classes = 10"
      ],
      "metadata": {
        "id": "pPqogwvtjegO"
      },
      "execution_count": 3,
      "outputs": []
    },
    {
      "cell_type": "markdown",
      "source": [
        "우리가 할 것 : 0~9까지 손으로 쓴 데이터를 가져온다음에 학습시킨 후 우리가 직접 손으로 쓴 글씨 인식하기"
      ],
      "metadata": {
        "id": "Jzp6KNiYjkUS"
      }
    },
    {
      "cell_type": "code",
      "source": [
        "mnist = keras.datasets.mnist\n",
        "# mnist는 데이터를 가져와서 우리가 일일히 정제할 필요없이 트레이닝, 테스트셋 모두 존재\n",
        "#하므로 그거 가져와서 쓰면됨.\n",
        "(train_images, train_labels), (test_images, test_labels) = mnist.load_data()"
      ],
      "metadata": {
        "colab": {
          "base_uri": "https://localhost:8080/"
        },
        "id": "AZhldd1LjtRg",
        "outputId": "13e3a112-b2f4-4e5f-ca5a-286ddd2b9e9d"
      },
      "execution_count": 4,
      "outputs": [
        {
          "output_type": "stream",
          "name": "stdout",
          "text": [
            "Downloading data from https://storage.googleapis.com/tensorflow/tf-keras-datasets/mnist.npz\n",
            "11493376/11490434 [==============================] - 1s 0us/step\n",
            "11501568/11490434 [==============================] - 1s 0us/step\n"
          ]
        }
      ]
    },
    {
      "cell_type": "code",
      "source": [
        "len(train_images), len(test_images)"
      ],
      "metadata": {
        "colab": {
          "base_uri": "https://localhost:8080/"
        },
        "id": "qwicpxB0kbxz",
        "outputId": "183fe5fe-490b-4f87-8e96-52a8a7b10e1f"
      },
      "execution_count": 5,
      "outputs": [
        {
          "output_type": "execute_result",
          "data": {
            "text/plain": [
              "(60000, 10000)"
            ]
          },
          "metadata": {},
          "execution_count": 5
        }
      ]
    },
    {
      "cell_type": "code",
      "source": [
        "# input data에 대해 normalize를 해준다 0~1 사이로 --> 텐서플로우가 실수에서 동작을 주로 시키기\n",
        "#때문에\n",
        "train_images = train_images / 255.0\n",
        "test_images = test_images / 255.0"
      ],
      "metadata": {
        "id": "wwxe5iFVOaPz"
      },
      "execution_count": 6,
      "outputs": []
    },
    {
      "cell_type": "code",
      "source": [
        "# 모델 정의\n",
        "model = keras.Sequential([ # 이렇게 리스트 안에 레이어들을 넣어준다., \n",
        "                          #리스트 형태로 만들면 자동으로 ★리니어 스택 형태가 된다.★\n",
        "                         keras.layers.Flatten(input_shape=(28, 28)),\n",
        "                          keras.layers.Reshape(target_shape=(28, 28, 1)),\n",
        "                          keras.layers.Conv2D(filters=32, kernel_size=(3, 3), activation=tf.nn.relu),\n",
        "                          keras.layers.Conv2D(filters=64, kernel_size=(3, 3), activation=tf.nn.relu),\n",
        "                          keras.layers.MaxPooling2D(pool_size=(2, 2)),\n",
        "                          keras.layers.Dropout(0.25),\n",
        "                          keras.layers.Flatten(input_shape=(28, 28)),\n",
        "                          keras.layers.Dropout(0.5),\n",
        "                          keras.layers.Dense(num_classes, activation='softmax')\n",
        "                          # tf.nn.softmax로 써도 됨\n",
        "])\n",
        "model.compile(optimizer='adam', loss=tf.keras.losses.SparseCategoricalCrossentropy(from_logits=True), metrics=['accuracy'])\n",
        "# 지금 mnist문제는 Multi Classification 문제라서 sparse_categorical_crossentropy를 Cost 함수\n",
        "#형성 방식으로 사용"
      ],
      "metadata": {
        "id": "KM5VB_4nOyEZ"
      },
      "execution_count": 15,
      "outputs": []
    },
    {
      "cell_type": "code",
      "source": [
        "history = model.fit(train_images, train_labels, validation_data=(test_images, test_labels), epochs=epochs, batch_size=batch_size)"
      ],
      "metadata": {
        "colab": {
          "base_uri": "https://localhost:8080/"
        },
        "id": "11QbVzcJQ9Hc",
        "outputId": "2a7ebb61-b96b-4674-aa4e-3e3ae55e7b14"
      },
      "execution_count": 16,
      "outputs": [
        {
          "output_type": "stream",
          "name": "stdout",
          "text": [
            "Epoch 1/100\n"
          ]
        },
        {
          "output_type": "stream",
          "name": "stderr",
          "text": [
            "/usr/local/lib/python3.7/dist-packages/tensorflow/python/util/dispatch.py:1082: UserWarning: \"`sparse_categorical_crossentropy` received `from_logits=True`, but the `output` argument was produced by a sigmoid or softmax activation and thus does not represent logits. Was this intended?\"\n",
            "  return dispatch_target(*args, **kwargs)\n"
          ]
        },
        {
          "output_type": "stream",
          "name": "stdout",
          "text": [
            "500/500 [==============================] - 17s 9ms/step - loss: 0.2522 - accuracy: 0.9267 - val_loss: 0.0772 - val_accuracy: 0.9754\n",
            "Epoch 2/100\n",
            "500/500 [==============================] - 4s 8ms/step - loss: 0.0919 - accuracy: 0.9719 - val_loss: 0.0490 - val_accuracy: 0.9840\n",
            "Epoch 3/100\n",
            "500/500 [==============================] - 4s 8ms/step - loss: 0.0677 - accuracy: 0.9798 - val_loss: 0.0430 - val_accuracy: 0.9863\n",
            "Epoch 4/100\n",
            "500/500 [==============================] - 4s 8ms/step - loss: 0.0591 - accuracy: 0.9817 - val_loss: 0.0398 - val_accuracy: 0.9874\n",
            "Epoch 5/100\n",
            "500/500 [==============================] - 4s 8ms/step - loss: 0.0522 - accuracy: 0.9831 - val_loss: 0.0377 - val_accuracy: 0.9872\n",
            "Epoch 6/100\n",
            "500/500 [==============================] - 4s 8ms/step - loss: 0.0464 - accuracy: 0.9852 - val_loss: 0.0348 - val_accuracy: 0.9887\n",
            "Epoch 7/100\n",
            "500/500 [==============================] - 4s 8ms/step - loss: 0.0441 - accuracy: 0.9860 - val_loss: 0.0340 - val_accuracy: 0.9886\n",
            "Epoch 8/100\n",
            "500/500 [==============================] - 4s 8ms/step - loss: 0.0422 - accuracy: 0.9865 - val_loss: 0.0334 - val_accuracy: 0.9887\n",
            "Epoch 9/100\n",
            "500/500 [==============================] - 4s 8ms/step - loss: 0.0370 - accuracy: 0.9882 - val_loss: 0.0302 - val_accuracy: 0.9898\n",
            "Epoch 10/100\n",
            "500/500 [==============================] - 4s 8ms/step - loss: 0.0355 - accuracy: 0.9883 - val_loss: 0.0328 - val_accuracy: 0.9895\n",
            "Epoch 11/100\n",
            "500/500 [==============================] - 4s 8ms/step - loss: 0.0331 - accuracy: 0.9891 - val_loss: 0.0321 - val_accuracy: 0.9902\n",
            "Epoch 12/100\n",
            "500/500 [==============================] - 4s 8ms/step - loss: 0.0325 - accuracy: 0.9898 - val_loss: 0.0319 - val_accuracy: 0.9899\n",
            "Epoch 13/100\n",
            "500/500 [==============================] - 4s 8ms/step - loss: 0.0290 - accuracy: 0.9906 - val_loss: 0.0310 - val_accuracy: 0.9902\n",
            "Epoch 14/100\n",
            "500/500 [==============================] - 4s 8ms/step - loss: 0.0293 - accuracy: 0.9901 - val_loss: 0.0327 - val_accuracy: 0.9907\n",
            "Epoch 15/100\n",
            "500/500 [==============================] - 4s 8ms/step - loss: 0.0253 - accuracy: 0.9914 - val_loss: 0.0308 - val_accuracy: 0.9903\n",
            "Epoch 16/100\n",
            "500/500 [==============================] - 4s 8ms/step - loss: 0.0262 - accuracy: 0.9910 - val_loss: 0.0307 - val_accuracy: 0.9909\n",
            "Epoch 17/100\n",
            "500/500 [==============================] - 4s 8ms/step - loss: 0.0258 - accuracy: 0.9912 - val_loss: 0.0295 - val_accuracy: 0.9908\n",
            "Epoch 18/100\n",
            "500/500 [==============================] - 4s 8ms/step - loss: 0.0233 - accuracy: 0.9923 - val_loss: 0.0309 - val_accuracy: 0.9907\n",
            "Epoch 19/100\n",
            "500/500 [==============================] - 4s 8ms/step - loss: 0.0228 - accuracy: 0.9923 - val_loss: 0.0301 - val_accuracy: 0.9910\n",
            "Epoch 20/100\n",
            "500/500 [==============================] - 4s 8ms/step - loss: 0.0224 - accuracy: 0.9926 - val_loss: 0.0301 - val_accuracy: 0.9910\n",
            "Epoch 21/100\n",
            "500/500 [==============================] - 4s 8ms/step - loss: 0.0217 - accuracy: 0.9928 - val_loss: 0.0324 - val_accuracy: 0.9910\n",
            "Epoch 22/100\n",
            "500/500 [==============================] - 4s 8ms/step - loss: 0.0201 - accuracy: 0.9935 - val_loss: 0.0301 - val_accuracy: 0.9917\n",
            "Epoch 23/100\n",
            "500/500 [==============================] - 4s 8ms/step - loss: 0.0189 - accuracy: 0.9937 - val_loss: 0.0311 - val_accuracy: 0.9915\n",
            "Epoch 24/100\n",
            "500/500 [==============================] - 4s 8ms/step - loss: 0.0185 - accuracy: 0.9939 - val_loss: 0.0317 - val_accuracy: 0.9912\n",
            "Epoch 25/100\n",
            "500/500 [==============================] - 4s 8ms/step - loss: 0.0196 - accuracy: 0.9937 - val_loss: 0.0320 - val_accuracy: 0.9914\n",
            "Epoch 26/100\n",
            "500/500 [==============================] - 4s 8ms/step - loss: 0.0177 - accuracy: 0.9937 - val_loss: 0.0339 - val_accuracy: 0.9914\n",
            "Epoch 27/100\n",
            "500/500 [==============================] - 4s 8ms/step - loss: 0.0189 - accuracy: 0.9935 - val_loss: 0.0316 - val_accuracy: 0.9915\n",
            "Epoch 28/100\n",
            "500/500 [==============================] - 4s 9ms/step - loss: 0.0186 - accuracy: 0.9935 - val_loss: 0.0307 - val_accuracy: 0.9919\n",
            "Epoch 29/100\n",
            "500/500 [==============================] - 4s 8ms/step - loss: 0.0162 - accuracy: 0.9946 - val_loss: 0.0331 - val_accuracy: 0.9919\n",
            "Epoch 30/100\n",
            "500/500 [==============================] - 4s 8ms/step - loss: 0.0157 - accuracy: 0.9947 - val_loss: 0.0335 - val_accuracy: 0.9910\n",
            "Epoch 31/100\n",
            "500/500 [==============================] - 4s 8ms/step - loss: 0.0177 - accuracy: 0.9939 - val_loss: 0.0336 - val_accuracy: 0.9911\n",
            "Epoch 32/100\n",
            "500/500 [==============================] - 4s 8ms/step - loss: 0.0157 - accuracy: 0.9946 - val_loss: 0.0323 - val_accuracy: 0.9918\n",
            "Epoch 33/100\n",
            "500/500 [==============================] - 4s 8ms/step - loss: 0.0148 - accuracy: 0.9949 - val_loss: 0.0335 - val_accuracy: 0.9915\n",
            "Epoch 34/100\n",
            "500/500 [==============================] - 4s 8ms/step - loss: 0.0151 - accuracy: 0.9946 - val_loss: 0.0330 - val_accuracy: 0.9919\n",
            "Epoch 35/100\n",
            "500/500 [==============================] - 4s 8ms/step - loss: 0.0151 - accuracy: 0.9947 - val_loss: 0.0360 - val_accuracy: 0.9915\n",
            "Epoch 36/100\n",
            "500/500 [==============================] - 4s 8ms/step - loss: 0.0135 - accuracy: 0.9955 - val_loss: 0.0367 - val_accuracy: 0.9914\n",
            "Epoch 37/100\n",
            "500/500 [==============================] - 4s 8ms/step - loss: 0.0139 - accuracy: 0.9952 - val_loss: 0.0340 - val_accuracy: 0.9918\n",
            "Epoch 38/100\n",
            "500/500 [==============================] - 4s 8ms/step - loss: 0.0141 - accuracy: 0.9951 - val_loss: 0.0343 - val_accuracy: 0.9918\n",
            "Epoch 39/100\n",
            "500/500 [==============================] - 4s 8ms/step - loss: 0.0134 - accuracy: 0.9955 - val_loss: 0.0359 - val_accuracy: 0.9917\n",
            "Epoch 40/100\n",
            "500/500 [==============================] - 4s 8ms/step - loss: 0.0143 - accuracy: 0.9951 - val_loss: 0.0365 - val_accuracy: 0.9911\n",
            "Epoch 41/100\n",
            "500/500 [==============================] - 4s 8ms/step - loss: 0.0133 - accuracy: 0.9953 - val_loss: 0.0344 - val_accuracy: 0.9924\n",
            "Epoch 42/100\n",
            "500/500 [==============================] - 4s 8ms/step - loss: 0.0128 - accuracy: 0.9958 - val_loss: 0.0356 - val_accuracy: 0.9911\n",
            "Epoch 43/100\n",
            "500/500 [==============================] - 4s 9ms/step - loss: 0.0127 - accuracy: 0.9952 - val_loss: 0.0345 - val_accuracy: 0.9922\n",
            "Epoch 44/100\n",
            "500/500 [==============================] - 4s 8ms/step - loss: 0.0134 - accuracy: 0.9953 - val_loss: 0.0345 - val_accuracy: 0.9915\n",
            "Epoch 45/100\n",
            "500/500 [==============================] - 4s 8ms/step - loss: 0.0117 - accuracy: 0.9958 - val_loss: 0.0343 - val_accuracy: 0.9922\n",
            "Epoch 46/100\n",
            "500/500 [==============================] - 4s 8ms/step - loss: 0.0117 - accuracy: 0.9959 - val_loss: 0.0333 - val_accuracy: 0.9922\n",
            "Epoch 47/100\n",
            "500/500 [==============================] - 4s 8ms/step - loss: 0.0102 - accuracy: 0.9965 - val_loss: 0.0321 - val_accuracy: 0.9920\n",
            "Epoch 48/100\n",
            "500/500 [==============================] - 4s 8ms/step - loss: 0.0125 - accuracy: 0.9955 - val_loss: 0.0381 - val_accuracy: 0.9915\n",
            "Epoch 49/100\n",
            "500/500 [==============================] - 4s 8ms/step - loss: 0.0128 - accuracy: 0.9954 - val_loss: 0.0347 - val_accuracy: 0.9918\n",
            "Epoch 50/100\n",
            "500/500 [==============================] - 4s 8ms/step - loss: 0.0097 - accuracy: 0.9969 - val_loss: 0.0364 - val_accuracy: 0.9919\n",
            "Epoch 51/100\n",
            "500/500 [==============================] - 4s 8ms/step - loss: 0.0112 - accuracy: 0.9963 - val_loss: 0.0346 - val_accuracy: 0.9914\n",
            "Epoch 52/100\n",
            "500/500 [==============================] - 4s 8ms/step - loss: 0.0110 - accuracy: 0.9961 - val_loss: 0.0360 - val_accuracy: 0.9923\n",
            "Epoch 53/100\n",
            "500/500 [==============================] - 4s 8ms/step - loss: 0.0115 - accuracy: 0.9961 - val_loss: 0.0376 - val_accuracy: 0.9908\n",
            "Epoch 54/100\n",
            "500/500 [==============================] - 4s 8ms/step - loss: 0.0112 - accuracy: 0.9963 - val_loss: 0.0333 - val_accuracy: 0.9926\n",
            "Epoch 55/100\n",
            "500/500 [==============================] - 4s 8ms/step - loss: 0.0108 - accuracy: 0.9960 - val_loss: 0.0339 - val_accuracy: 0.9930\n",
            "Epoch 56/100\n",
            "500/500 [==============================] - 4s 8ms/step - loss: 0.0112 - accuracy: 0.9962 - val_loss: 0.0332 - val_accuracy: 0.9924\n",
            "Epoch 57/100\n",
            "500/500 [==============================] - 4s 8ms/step - loss: 0.0102 - accuracy: 0.9967 - val_loss: 0.0358 - val_accuracy: 0.9921\n",
            "Epoch 58/100\n",
            "500/500 [==============================] - 5s 9ms/step - loss: 0.0100 - accuracy: 0.9965 - val_loss: 0.0401 - val_accuracy: 0.9918\n",
            "Epoch 59/100\n",
            "500/500 [==============================] - 4s 8ms/step - loss: 0.0112 - accuracy: 0.9962 - val_loss: 0.0361 - val_accuracy: 0.9924\n",
            "Epoch 60/100\n",
            "500/500 [==============================] - 4s 8ms/step - loss: 0.0094 - accuracy: 0.9970 - val_loss: 0.0361 - val_accuracy: 0.9920\n",
            "Epoch 61/100\n",
            "500/500 [==============================] - 4s 8ms/step - loss: 0.0090 - accuracy: 0.9966 - val_loss: 0.0391 - val_accuracy: 0.9919\n",
            "Epoch 62/100\n",
            "500/500 [==============================] - 4s 8ms/step - loss: 0.0098 - accuracy: 0.9967 - val_loss: 0.0390 - val_accuracy: 0.9918\n",
            "Epoch 63/100\n",
            "500/500 [==============================] - 4s 8ms/step - loss: 0.0090 - accuracy: 0.9969 - val_loss: 0.0381 - val_accuracy: 0.9925\n",
            "Epoch 64/100\n",
            "500/500 [==============================] - 4s 8ms/step - loss: 0.0090 - accuracy: 0.9967 - val_loss: 0.0357 - val_accuracy: 0.9915\n",
            "Epoch 65/100\n",
            "500/500 [==============================] - 4s 8ms/step - loss: 0.0093 - accuracy: 0.9971 - val_loss: 0.0354 - val_accuracy: 0.9922\n",
            "Epoch 66/100\n",
            "500/500 [==============================] - 4s 8ms/step - loss: 0.0087 - accuracy: 0.9969 - val_loss: 0.0399 - val_accuracy: 0.9913\n",
            "Epoch 67/100\n",
            "500/500 [==============================] - 4s 8ms/step - loss: 0.0083 - accuracy: 0.9972 - val_loss: 0.0373 - val_accuracy: 0.9925\n",
            "Epoch 68/100\n",
            "500/500 [==============================] - 4s 8ms/step - loss: 0.0092 - accuracy: 0.9967 - val_loss: 0.0373 - val_accuracy: 0.9923\n",
            "Epoch 69/100\n",
            "500/500 [==============================] - 4s 8ms/step - loss: 0.0088 - accuracy: 0.9969 - val_loss: 0.0376 - val_accuracy: 0.9919\n",
            "Epoch 70/100\n",
            "500/500 [==============================] - 4s 8ms/step - loss: 0.0094 - accuracy: 0.9966 - val_loss: 0.0365 - val_accuracy: 0.9925\n",
            "Epoch 71/100\n",
            "500/500 [==============================] - 4s 8ms/step - loss: 0.0095 - accuracy: 0.9968 - val_loss: 0.0351 - val_accuracy: 0.9930\n",
            "Epoch 72/100\n",
            "500/500 [==============================] - 4s 8ms/step - loss: 0.0096 - accuracy: 0.9967 - val_loss: 0.0386 - val_accuracy: 0.9921\n",
            "Epoch 73/100\n",
            "500/500 [==============================] - 4s 9ms/step - loss: 0.0086 - accuracy: 0.9967 - val_loss: 0.0396 - val_accuracy: 0.9917\n",
            "Epoch 74/100\n",
            "500/500 [==============================] - 4s 8ms/step - loss: 0.0092 - accuracy: 0.9969 - val_loss: 0.0363 - val_accuracy: 0.9924\n",
            "Epoch 75/100\n",
            "500/500 [==============================] - 4s 8ms/step - loss: 0.0087 - accuracy: 0.9969 - val_loss: 0.0375 - val_accuracy: 0.9920\n",
            "Epoch 76/100\n",
            "500/500 [==============================] - 4s 8ms/step - loss: 0.0082 - accuracy: 0.9973 - val_loss: 0.0361 - val_accuracy: 0.9931\n",
            "Epoch 77/100\n",
            "500/500 [==============================] - 4s 8ms/step - loss: 0.0075 - accuracy: 0.9975 - val_loss: 0.0367 - val_accuracy: 0.9926\n",
            "Epoch 78/100\n",
            "500/500 [==============================] - 4s 8ms/step - loss: 0.0087 - accuracy: 0.9972 - val_loss: 0.0384 - val_accuracy: 0.9923\n",
            "Epoch 79/100\n",
            "500/500 [==============================] - 4s 8ms/step - loss: 0.0081 - accuracy: 0.9970 - val_loss: 0.0367 - val_accuracy: 0.9925\n",
            "Epoch 80/100\n",
            "500/500 [==============================] - 4s 8ms/step - loss: 0.0081 - accuracy: 0.9970 - val_loss: 0.0371 - val_accuracy: 0.9923\n",
            "Epoch 81/100\n",
            "500/500 [==============================] - 4s 8ms/step - loss: 0.0079 - accuracy: 0.9975 - val_loss: 0.0424 - val_accuracy: 0.9914\n",
            "Epoch 82/100\n",
            "500/500 [==============================] - 4s 8ms/step - loss: 0.0081 - accuracy: 0.9971 - val_loss: 0.0424 - val_accuracy: 0.9915\n",
            "Epoch 83/100\n",
            "500/500 [==============================] - 4s 8ms/step - loss: 0.0087 - accuracy: 0.9970 - val_loss: 0.0369 - val_accuracy: 0.9918\n",
            "Epoch 84/100\n",
            "500/500 [==============================] - 4s 8ms/step - loss: 0.0076 - accuracy: 0.9974 - val_loss: 0.0417 - val_accuracy: 0.9913\n",
            "Epoch 85/100\n",
            "500/500 [==============================] - 4s 8ms/step - loss: 0.0081 - accuracy: 0.9971 - val_loss: 0.0429 - val_accuracy: 0.9915\n",
            "Epoch 86/100\n",
            "500/500 [==============================] - 4s 8ms/step - loss: 0.0086 - accuracy: 0.9971 - val_loss: 0.0397 - val_accuracy: 0.9925\n",
            "Epoch 87/100\n",
            "500/500 [==============================] - 4s 9ms/step - loss: 0.0083 - accuracy: 0.9972 - val_loss: 0.0411 - val_accuracy: 0.9925\n",
            "Epoch 88/100\n",
            "500/500 [==============================] - 4s 9ms/step - loss: 0.0080 - accuracy: 0.9974 - val_loss: 0.0399 - val_accuracy: 0.9929\n",
            "Epoch 89/100\n",
            "500/500 [==============================] - 4s 8ms/step - loss: 0.0077 - accuracy: 0.9973 - val_loss: 0.0380 - val_accuracy: 0.9927\n",
            "Epoch 90/100\n",
            "500/500 [==============================] - 4s 8ms/step - loss: 0.0078 - accuracy: 0.9973 - val_loss: 0.0422 - val_accuracy: 0.9927\n",
            "Epoch 91/100\n",
            "500/500 [==============================] - 4s 8ms/step - loss: 0.0077 - accuracy: 0.9975 - val_loss: 0.0388 - val_accuracy: 0.9928\n",
            "Epoch 92/100\n",
            "500/500 [==============================] - 4s 8ms/step - loss: 0.0082 - accuracy: 0.9973 - val_loss: 0.0413 - val_accuracy: 0.9914\n",
            "Epoch 93/100\n",
            "500/500 [==============================] - 4s 8ms/step - loss: 0.0086 - accuracy: 0.9971 - val_loss: 0.0441 - val_accuracy: 0.9922\n",
            "Epoch 94/100\n",
            "500/500 [==============================] - 4s 8ms/step - loss: 0.0077 - accuracy: 0.9972 - val_loss: 0.0453 - val_accuracy: 0.9924\n",
            "Epoch 95/100\n",
            "500/500 [==============================] - 4s 8ms/step - loss: 0.0070 - accuracy: 0.9978 - val_loss: 0.0399 - val_accuracy: 0.9930\n",
            "Epoch 96/100\n",
            "500/500 [==============================] - 4s 8ms/step - loss: 0.0062 - accuracy: 0.9977 - val_loss: 0.0390 - val_accuracy: 0.9925\n",
            "Epoch 97/100\n",
            "500/500 [==============================] - 4s 8ms/step - loss: 0.0072 - accuracy: 0.9974 - val_loss: 0.0406 - val_accuracy: 0.9918\n",
            "Epoch 98/100\n",
            "500/500 [==============================] - 4s 8ms/step - loss: 0.0069 - accuracy: 0.9976 - val_loss: 0.0388 - val_accuracy: 0.9920\n",
            "Epoch 99/100\n",
            "500/500 [==============================] - 4s 8ms/step - loss: 0.0079 - accuracy: 0.9975 - val_loss: 0.0417 - val_accuracy: 0.9913\n",
            "Epoch 100/100\n",
            "500/500 [==============================] - 4s 8ms/step - loss: 0.0076 - accuracy: 0.9975 - val_loss: 0.0395 - val_accuracy: 0.9913\n"
          ]
        }
      ]
    },
    {
      "cell_type": "code",
      "source": [
        "test_loss, test_acc = model.evaluate(test_images, test_labels)\n",
        "print(test_loss, test_acc)\n",
        "# 테스트 값들로 평가 진행 -> loss, accuracy 값 확인 가능"
      ],
      "metadata": {
        "colab": {
          "base_uri": "https://localhost:8080/"
        },
        "id": "EYYlytRhRcjj",
        "outputId": "debe39a7-500f-4760-822e-17097fee40bb"
      },
      "execution_count": 17,
      "outputs": [
        {
          "output_type": "stream",
          "name": "stdout",
          "text": [
            "313/313 [==============================] - 1s 3ms/step - loss: 0.0395 - accuracy: 0.9913\n",
            "0.039549559354782104 0.9912999868392944\n"
          ]
        }
      ]
    }
  ]
}