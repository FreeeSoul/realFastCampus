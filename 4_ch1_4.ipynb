{
  "nbformat": 4,
  "nbformat_minor": 0,
  "metadata": {
    "colab": {
      "name": "4_ch1_4.ipynb",
      "provenance": [],
      "collapsed_sections": [],
      "mount_file_id": "1bLsE5oH_kmM8-ZAWsSMxOc63mtHcHe0y",
      "authorship_tag": "ABX9TyOzpfsh6tCl8i4yLLzFE2aW",
      "include_colab_link": true
    },
    "kernelspec": {
      "name": "python3",
      "display_name": "Python 3"
    },
    "language_info": {
      "name": "python"
    }
  },
  "cells": [
    {
      "cell_type": "markdown",
      "metadata": {
        "id": "view-in-github",
        "colab_type": "text"
      },
      "source": [
        "<a href=\"https://colab.research.google.com/github/FreeeSoul/realFastCampus/blob/main/4_ch1_4.ipynb\" target=\"_parent\"><img src=\"https://colab.research.google.com/assets/colab-badge.svg\" alt=\"Open In Colab\"/></a>"
      ]
    },
    {
      "cell_type": "code",
      "execution_count": 3,
      "metadata": {
        "id": "flovoTUWfhQq"
      },
      "outputs": [],
      "source": [
        "import tensorflow as tf\n",
        "from tensorflow import keras\n",
        "import numpy as np\n",
        "import matplotlib.pyplot as plt"
      ]
    },
    {
      "cell_type": "code",
      "source": [
        "print(tf.__version__)"
      ],
      "metadata": {
        "colab": {
          "base_uri": "https://localhost:8080/"
        },
        "id": "JEDQVd4GjTMd",
        "outputId": "55e0ecbb-d2a6-4adb-92d7-0800df11f2f5"
      },
      "execution_count": 4,
      "outputs": [
        {
          "output_type": "stream",
          "name": "stdout",
          "text": [
            "2.8.2\n"
          ]
        }
      ]
    },
    {
      "cell_type": "code",
      "source": [
        "batch_size = 120\n",
        "# batch 개수 의미 --> 몇 번 학습 마다 데이터 새로 가져올지.. 예비모의고사 10회 풀 때도\n",
        "#10회를 한꺼번에 쭉 풀고 전부 한꺼번에 채점하는거보다 3회풀고 채점 후 재정비하고 다시 3회풀고 이러는게\n",
        "#점수 더 잘나옴\n",
        "epochs = 100\n",
        "num_classes = 10"
      ],
      "metadata": {
        "id": "pPqogwvtjegO"
      },
      "execution_count": 5,
      "outputs": []
    },
    {
      "cell_type": "markdown",
      "source": [
        "우리가 할 것 : 0~9까지 손으로 쓴 데이터를 가져온다음에 학습시킨 후 우리가 직접 손으로 쓴 글씨 인식하기"
      ],
      "metadata": {
        "id": "Jzp6KNiYjkUS"
      }
    },
    {
      "cell_type": "code",
      "source": [
        "mnist = keras.datasets.mnist\n",
        "(train_images, train_labels), (test_images, test_labels) = mnist.load_data()"
      ],
      "metadata": {
        "colab": {
          "base_uri": "https://localhost:8080/"
        },
        "id": "AZhldd1LjtRg",
        "outputId": "a8cb5b30-ca86-4fa5-890f-89d4ae2e5aae"
      },
      "execution_count": 6,
      "outputs": [
        {
          "output_type": "stream",
          "name": "stdout",
          "text": [
            "Downloading data from https://storage.googleapis.com/tensorflow/tf-keras-datasets/mnist.npz\n",
            "11493376/11490434 [==============================] - 0s 0us/step\n",
            "11501568/11490434 [==============================] - 0s 0us/step\n"
          ]
        }
      ]
    },
    {
      "cell_type": "code",
      "source": [
        "len(train_images), len(test_images)"
      ],
      "metadata": {
        "colab": {
          "base_uri": "https://localhost:8080/"
        },
        "id": "qwicpxB0kbxz",
        "outputId": "31585ab6-e591-45c5-fcd9-6b88744d7d18"
      },
      "execution_count": 7,
      "outputs": [
        {
          "output_type": "execute_result",
          "data": {
            "text/plain": [
              "(60000, 10000)"
            ]
          },
          "metadata": {},
          "execution_count": 7
        }
      ]
    },
    {
      "cell_type": "code",
      "source": [
        "# input data에 대해 normalize를 해준다 0~1 사이로 --> 텐서플로우가 실수에서 동작을 주로 시키기\n",
        "#때문에\n",
        "train_images = train_images / 255.0\n",
        "test_images = test_images / 255.0"
      ],
      "metadata": {
        "id": "wwxe5iFVOaPz"
      },
      "execution_count": 8,
      "outputs": []
    },
    {
      "cell_type": "code",
      "source": [
        "# 모델 정의\n",
        "model = keras.Sequential([ # 이렇게 리스트 안에 레이어들을 넣어준다.\n",
        "                         keras.layers.Flatten(input_shape=(28, 28)),\n",
        "                         # 28*28의 인풋 데이터를 1차로 바꿔줌\n",
        "                          keras.layers.Dense(128, activation=tf.nn.relu),\n",
        "                          #유닛이 128개라서 128 넣는거래\n",
        "                          keras.layers.Dense(num_classes, activation='softmax')\n",
        "                          # tf.nn.softmax로 써도 됨\n",
        "])\n",
        "model.compile(optimizer='adam', loss=tf.keras.losses.sparse_categorical_crossentropy, metrics=['accuracy'])\n",
        "# 지금 mnist문제는 Multi Classification 문제라서 sparse_categorical_crossentropy를 Cost 함수\n",
        "#형성 방식으로 사용"
      ],
      "metadata": {
        "id": "KM5VB_4nOyEZ"
      },
      "execution_count": 9,
      "outputs": []
    },
    {
      "cell_type": "code",
      "source": [
        "history = model.fit(train_images, train_labels, epochs=epochs, batch_size=batch_size)"
      ],
      "metadata": {
        "colab": {
          "base_uri": "https://localhost:8080/"
        },
        "id": "11QbVzcJQ9Hc",
        "outputId": "1186ec96-34c4-4bff-beff-fec055d69e13"
      },
      "execution_count": 11,
      "outputs": [
        {
          "output_type": "stream",
          "name": "stdout",
          "text": [
            "Epoch 1/100\n",
            "500/500 [==============================] - 2s 3ms/step - loss: 0.3503 - accuracy: 0.9026\n",
            "Epoch 2/100\n",
            "500/500 [==============================] - 2s 3ms/step - loss: 0.1581 - accuracy: 0.9541\n",
            "Epoch 3/100\n",
            "500/500 [==============================] - 2s 3ms/step - loss: 0.1126 - accuracy: 0.9678\n",
            "Epoch 4/100\n",
            "500/500 [==============================] - 2s 3ms/step - loss: 0.0869 - accuracy: 0.9751\n",
            "Epoch 5/100\n",
            "500/500 [==============================] - 2s 3ms/step - loss: 0.0704 - accuracy: 0.9799\n",
            "Epoch 6/100\n",
            "500/500 [==============================] - 2s 3ms/step - loss: 0.0583 - accuracy: 0.9835\n",
            "Epoch 7/100\n",
            "500/500 [==============================] - 2s 3ms/step - loss: 0.0491 - accuracy: 0.9861\n",
            "Epoch 8/100\n",
            "500/500 [==============================] - 2s 3ms/step - loss: 0.0410 - accuracy: 0.9885\n",
            "Epoch 9/100\n",
            "500/500 [==============================] - 2s 3ms/step - loss: 0.0351 - accuracy: 0.9905\n",
            "Epoch 10/100\n",
            "500/500 [==============================] - 2s 3ms/step - loss: 0.0299 - accuracy: 0.9919\n",
            "Epoch 11/100\n",
            "500/500 [==============================] - 1s 3ms/step - loss: 0.0254 - accuracy: 0.9934\n",
            "Epoch 12/100\n",
            "500/500 [==============================] - 1s 3ms/step - loss: 0.0213 - accuracy: 0.9948\n",
            "Epoch 13/100\n",
            "500/500 [==============================] - 2s 3ms/step - loss: 0.0177 - accuracy: 0.9957\n",
            "Epoch 14/100\n",
            "500/500 [==============================] - 2s 3ms/step - loss: 0.0152 - accuracy: 0.9968\n",
            "Epoch 15/100\n",
            "500/500 [==============================] - 2s 3ms/step - loss: 0.0133 - accuracy: 0.9969\n",
            "Epoch 16/100\n",
            "500/500 [==============================] - 2s 3ms/step - loss: 0.0113 - accuracy: 0.9977\n",
            "Epoch 17/100\n",
            "500/500 [==============================] - 2s 3ms/step - loss: 0.0096 - accuracy: 0.9979\n",
            "Epoch 18/100\n",
            "500/500 [==============================] - 2s 3ms/step - loss: 0.0075 - accuracy: 0.9987\n",
            "Epoch 19/100\n",
            "500/500 [==============================] - 2s 3ms/step - loss: 0.0076 - accuracy: 0.9982\n",
            "Epoch 20/100\n",
            "500/500 [==============================] - 2s 3ms/step - loss: 0.0058 - accuracy: 0.9990\n",
            "Epoch 21/100\n",
            "500/500 [==============================] - 2s 3ms/step - loss: 0.0059 - accuracy: 0.9989\n",
            "Epoch 22/100\n",
            "500/500 [==============================] - 1s 3ms/step - loss: 0.0051 - accuracy: 0.9992\n",
            "Epoch 23/100\n",
            "500/500 [==============================] - 2s 3ms/step - loss: 0.0036 - accuracy: 0.9994\n",
            "Epoch 24/100\n",
            "500/500 [==============================] - 2s 3ms/step - loss: 0.0030 - accuracy: 0.9997\n",
            "Epoch 25/100\n",
            "500/500 [==============================] - 2s 3ms/step - loss: 0.0042 - accuracy: 0.9991\n",
            "Epoch 26/100\n",
            "500/500 [==============================] - 2s 3ms/step - loss: 0.0068 - accuracy: 0.9980\n",
            "Epoch 27/100\n",
            "500/500 [==============================] - 2s 3ms/step - loss: 0.0025 - accuracy: 0.9997\n",
            "Epoch 28/100\n",
            "500/500 [==============================] - 2s 3ms/step - loss: 0.0020 - accuracy: 0.9997\n",
            "Epoch 29/100\n",
            "500/500 [==============================] - 2s 3ms/step - loss: 9.1628e-04 - accuracy: 1.0000\n",
            "Epoch 30/100\n",
            "500/500 [==============================] - 2s 4ms/step - loss: 7.7257e-04 - accuracy: 1.0000\n",
            "Epoch 31/100\n",
            "500/500 [==============================] - 2s 4ms/step - loss: 7.1027e-04 - accuracy: 1.0000\n",
            "Epoch 32/100\n",
            "500/500 [==============================] - 2s 3ms/step - loss: 0.0122 - accuracy: 0.9958\n",
            "Epoch 33/100\n",
            "500/500 [==============================] - 2s 4ms/step - loss: 0.0028 - accuracy: 0.9994\n",
            "Epoch 34/100\n",
            "500/500 [==============================] - 2s 3ms/step - loss: 7.7398e-04 - accuracy: 1.0000\n",
            "Epoch 35/100\n",
            "500/500 [==============================] - 2s 3ms/step - loss: 4.8403e-04 - accuracy: 1.0000\n",
            "Epoch 36/100\n",
            "500/500 [==============================] - 2s 4ms/step - loss: 3.9970e-04 - accuracy: 1.0000\n",
            "Epoch 37/100\n",
            "500/500 [==============================] - 2s 4ms/step - loss: 3.9498e-04 - accuracy: 1.0000\n",
            "Epoch 38/100\n",
            "500/500 [==============================] - 2s 4ms/step - loss: 0.0105 - accuracy: 0.9963\n",
            "Epoch 39/100\n",
            "500/500 [==============================] - 2s 4ms/step - loss: 0.0030 - accuracy: 0.9992\n",
            "Epoch 40/100\n",
            "500/500 [==============================] - 2s 3ms/step - loss: 6.8962e-04 - accuracy: 0.9999\n",
            "Epoch 41/100\n",
            "500/500 [==============================] - 2s 3ms/step - loss: 3.5323e-04 - accuracy: 1.0000\n",
            "Epoch 42/100\n",
            "500/500 [==============================] - 2s 3ms/step - loss: 2.7595e-04 - accuracy: 1.0000\n",
            "Epoch 43/100\n",
            "500/500 [==============================] - 2s 3ms/step - loss: 2.4819e-04 - accuracy: 1.0000\n",
            "Epoch 44/100\n",
            "500/500 [==============================] - 2s 3ms/step - loss: 2.2420e-04 - accuracy: 1.0000\n",
            "Epoch 45/100\n",
            "500/500 [==============================] - 2s 3ms/step - loss: 1.9406e-04 - accuracy: 1.0000\n",
            "Epoch 46/100\n",
            "500/500 [==============================] - 2s 3ms/step - loss: 1.7831e-04 - accuracy: 1.0000\n",
            "Epoch 47/100\n",
            "500/500 [==============================] - 2s 3ms/step - loss: 0.0013 - accuracy: 0.9996\n",
            "Epoch 48/100\n",
            "500/500 [==============================] - 2s 3ms/step - loss: 0.0130 - accuracy: 0.9956\n",
            "Epoch 49/100\n",
            "500/500 [==============================] - 2s 3ms/step - loss: 0.0010 - accuracy: 0.9999\n",
            "Epoch 50/100\n",
            "500/500 [==============================] - 2s 3ms/step - loss: 3.5230e-04 - accuracy: 1.0000\n",
            "Epoch 51/100\n",
            "500/500 [==============================] - 2s 3ms/step - loss: 2.1799e-04 - accuracy: 1.0000\n",
            "Epoch 52/100\n",
            "500/500 [==============================] - 1s 3ms/step - loss: 1.6958e-04 - accuracy: 1.0000\n",
            "Epoch 53/100\n",
            "500/500 [==============================] - 2s 3ms/step - loss: 1.4781e-04 - accuracy: 1.0000\n",
            "Epoch 54/100\n",
            "500/500 [==============================] - 2s 3ms/step - loss: 1.2871e-04 - accuracy: 1.0000\n",
            "Epoch 55/100\n",
            "500/500 [==============================] - 2s 3ms/step - loss: 1.1740e-04 - accuracy: 1.0000\n",
            "Epoch 56/100\n",
            "500/500 [==============================] - 2s 3ms/step - loss: 1.0447e-04 - accuracy: 1.0000\n",
            "Epoch 57/100\n",
            "500/500 [==============================] - 1s 3ms/step - loss: 9.3584e-05 - accuracy: 1.0000\n",
            "Epoch 58/100\n",
            "500/500 [==============================] - 2s 3ms/step - loss: 8.6127e-05 - accuracy: 1.0000\n",
            "Epoch 59/100\n",
            "500/500 [==============================] - 2s 3ms/step - loss: 0.0090 - accuracy: 0.9973\n",
            "Epoch 60/100\n",
            "500/500 [==============================] - 1s 3ms/step - loss: 0.0036 - accuracy: 0.9986\n",
            "Epoch 61/100\n",
            "500/500 [==============================] - 2s 3ms/step - loss: 4.6526e-04 - accuracy: 1.0000\n",
            "Epoch 62/100\n",
            "500/500 [==============================] - 2s 3ms/step - loss: 1.5664e-04 - accuracy: 1.0000\n",
            "Epoch 63/100\n",
            "500/500 [==============================] - 2s 3ms/step - loss: 1.1467e-04 - accuracy: 1.0000\n",
            "Epoch 64/100\n",
            "500/500 [==============================] - 2s 3ms/step - loss: 9.7737e-05 - accuracy: 1.0000\n",
            "Epoch 65/100\n",
            "500/500 [==============================] - 2s 3ms/step - loss: 8.6773e-05 - accuracy: 1.0000\n",
            "Epoch 66/100\n",
            "500/500 [==============================] - 2s 3ms/step - loss: 7.6418e-05 - accuracy: 1.0000\n",
            "Epoch 67/100\n",
            "500/500 [==============================] - 2s 3ms/step - loss: 6.8597e-05 - accuracy: 1.0000\n",
            "Epoch 68/100\n",
            "500/500 [==============================] - 1s 3ms/step - loss: 6.1785e-05 - accuracy: 1.0000\n",
            "Epoch 69/100\n",
            "500/500 [==============================] - 2s 3ms/step - loss: 5.5059e-05 - accuracy: 1.0000\n",
            "Epoch 70/100\n",
            "500/500 [==============================] - 1s 3ms/step - loss: 4.9676e-05 - accuracy: 1.0000\n",
            "Epoch 71/100\n",
            "500/500 [==============================] - 2s 3ms/step - loss: 4.7745e-05 - accuracy: 1.0000\n",
            "Epoch 72/100\n",
            "500/500 [==============================] - 1s 3ms/step - loss: 4.6796e-05 - accuracy: 1.0000\n",
            "Epoch 73/100\n",
            "500/500 [==============================] - 1s 3ms/step - loss: 0.0115 - accuracy: 0.9968\n",
            "Epoch 74/100\n",
            "500/500 [==============================] - 2s 3ms/step - loss: 0.0017 - accuracy: 0.9995\n",
            "Epoch 75/100\n",
            "500/500 [==============================] - 2s 3ms/step - loss: 4.1581e-04 - accuracy: 0.9999\n",
            "Epoch 76/100\n",
            "500/500 [==============================] - 2s 3ms/step - loss: 1.1464e-04 - accuracy: 1.0000\n",
            "Epoch 77/100\n",
            "500/500 [==============================] - 2s 3ms/step - loss: 7.8790e-05 - accuracy: 1.0000\n",
            "Epoch 78/100\n",
            "500/500 [==============================] - 2s 3ms/step - loss: 6.5716e-05 - accuracy: 1.0000\n",
            "Epoch 79/100\n",
            "500/500 [==============================] - 2s 3ms/step - loss: 5.7393e-05 - accuracy: 1.0000\n",
            "Epoch 80/100\n",
            "500/500 [==============================] - 2s 3ms/step - loss: 5.0211e-05 - accuracy: 1.0000\n",
            "Epoch 81/100\n",
            "500/500 [==============================] - 2s 3ms/step - loss: 4.4606e-05 - accuracy: 1.0000\n",
            "Epoch 82/100\n",
            "500/500 [==============================] - 2s 3ms/step - loss: 3.9777e-05 - accuracy: 1.0000\n",
            "Epoch 83/100\n",
            "500/500 [==============================] - 2s 3ms/step - loss: 3.4641e-05 - accuracy: 1.0000\n",
            "Epoch 84/100\n",
            "500/500 [==============================] - 2s 3ms/step - loss: 3.1788e-05 - accuracy: 1.0000\n",
            "Epoch 85/100\n",
            "500/500 [==============================] - 2s 3ms/step - loss: 2.7791e-05 - accuracy: 1.0000\n",
            "Epoch 86/100\n",
            "500/500 [==============================] - 1s 3ms/step - loss: 2.5180e-05 - accuracy: 1.0000\n",
            "Epoch 87/100\n",
            "500/500 [==============================] - 2s 3ms/step - loss: 2.2001e-05 - accuracy: 1.0000\n",
            "Epoch 88/100\n",
            "500/500 [==============================] - 2s 3ms/step - loss: 1.9750e-05 - accuracy: 1.0000\n",
            "Epoch 89/100\n",
            "500/500 [==============================] - 2s 3ms/step - loss: 1.9237e-05 - accuracy: 1.0000\n",
            "Epoch 90/100\n",
            "500/500 [==============================] - 2s 3ms/step - loss: 1.5792e-05 - accuracy: 1.0000\n",
            "Epoch 91/100\n",
            "500/500 [==============================] - 2s 3ms/step - loss: 0.0027 - accuracy: 0.9993\n",
            "Epoch 92/100\n",
            "500/500 [==============================] - 2s 3ms/step - loss: 0.0095 - accuracy: 0.9972\n",
            "Epoch 93/100\n",
            "500/500 [==============================] - 2s 3ms/step - loss: 6.5761e-04 - accuracy: 0.9999\n",
            "Epoch 94/100\n",
            "500/500 [==============================] - 2s 3ms/step - loss: 9.9921e-05 - accuracy: 1.0000\n",
            "Epoch 95/100\n",
            "500/500 [==============================] - 1s 3ms/step - loss: 5.5235e-05 - accuracy: 1.0000\n",
            "Epoch 96/100\n",
            "500/500 [==============================] - 2s 3ms/step - loss: 4.4259e-05 - accuracy: 1.0000\n",
            "Epoch 97/100\n",
            "500/500 [==============================] - 2s 3ms/step - loss: 3.7389e-05 - accuracy: 1.0000\n",
            "Epoch 98/100\n",
            "500/500 [==============================] - 2s 3ms/step - loss: 3.2377e-05 - accuracy: 1.0000\n",
            "Epoch 99/100\n",
            "500/500 [==============================] - 2s 3ms/step - loss: 2.8178e-05 - accuracy: 1.0000\n",
            "Epoch 100/100\n",
            "500/500 [==============================] - 2s 3ms/step - loss: 2.4554e-05 - accuracy: 1.0000\n"
          ]
        }
      ]
    },
    {
      "cell_type": "code",
      "source": [
        "test_loss, test_acc = model.evaluate(test_images, test_labels)\n",
        "print(test_loss, test_acc)\n",
        "# 테스트 값들로 평가 진행 -> loss, accuracy 값 확인 가능"
      ],
      "metadata": {
        "colab": {
          "base_uri": "https://localhost:8080/"
        },
        "id": "EYYlytRhRcjj",
        "outputId": "fbead4eb-77ea-4bc3-f248-3124d15fad03"
      },
      "execution_count": 12,
      "outputs": [
        {
          "output_type": "stream",
          "name": "stdout",
          "text": [
            "313/313 [==============================] - 1s 1ms/step - loss: 0.1363 - accuracy: 0.9804\n",
            "0.1363225281238556 0.980400025844574\n"
          ]
        }
      ]
    }
  ]
}