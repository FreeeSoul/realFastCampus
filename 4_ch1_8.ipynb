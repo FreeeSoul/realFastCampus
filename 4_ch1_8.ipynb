{
  "nbformat": 4,
  "nbformat_minor": 0,
  "metadata": {
    "colab": {
      "name": "4_ch1_8.ipynb",
      "provenance": [],
      "collapsed_sections": [],
      "mount_file_id": "1knOJePpsFFagOTYRv2kBkYrBKb1Oxe5X",
      "authorship_tag": "ABX9TyOrriglATyaDYkLAvN3fdYa",
      "include_colab_link": true
    },
    "kernelspec": {
      "name": "python3",
      "display_name": "Python 3"
    },
    "language_info": {
      "name": "python"
    },
    "accelerator": "GPU",
    "gpuClass": "standard"
  },
  "cells": [
    {
      "cell_type": "markdown",
      "metadata": {
        "id": "view-in-github",
        "colab_type": "text"
      },
      "source": [
        "<a href=\"https://colab.research.google.com/github/FreeeSoul/realFastCampus/blob/main/4_ch1_8.ipynb\" target=\"_parent\"><img src=\"https://colab.research.google.com/assets/colab-badge.svg\" alt=\"Open In Colab\"/></a>"
      ]
    },
    {
      "cell_type": "code",
      "execution_count": 3,
      "metadata": {
        "id": "flovoTUWfhQq"
      },
      "outputs": [],
      "source": [
        "import tensorflow as tf\n",
        "from tensorflow import keras\n",
        "import numpy as np\n",
        "import matplotlib.pyplot as plt"
      ]
    },
    {
      "cell_type": "code",
      "source": [
        "print(tf.__version__)"
      ],
      "metadata": {
        "colab": {
          "base_uri": "https://localhost:8080/"
        },
        "id": "JEDQVd4GjTMd",
        "outputId": "955eb5df-9747-45eb-90a5-89c81586425d"
      },
      "execution_count": 4,
      "outputs": [
        {
          "output_type": "stream",
          "name": "stdout",
          "text": [
            "2.8.2\n"
          ]
        }
      ]
    },
    {
      "cell_type": "code",
      "source": [
        "batch_size = 120\n",
        "# batch 개수 의미 --> 몇 번 학습 마다 데이터 새로 가져올지.. 예비모의고사 10회 풀 때도\n",
        "#10회를 한꺼번에 쭉 풀고 전부 한꺼번에 채점하는거보다 3회풀고 채점 후 재정비하고 다시 3회풀고 이러는게\n",
        "#점수 더 잘나옴\n",
        "epochs = 100\n",
        "num_classes = 10"
      ],
      "metadata": {
        "id": "pPqogwvtjegO"
      },
      "execution_count": 5,
      "outputs": []
    },
    {
      "cell_type": "markdown",
      "source": [
        "우리가 할 것 : 0~9까지 손으로 쓴 데이터를 가져온다음에 학습시킨 후 우리가 직접 손으로 쓴 글씨 인식하기"
      ],
      "metadata": {
        "id": "Jzp6KNiYjkUS"
      }
    },
    {
      "cell_type": "code",
      "source": [
        "mnist = keras.datasets.mnist\n",
        "# mnist는 데이터를 가져와서 우리가 일일히 정제할 필요없이 트레이닝, 테스트셋 모두 존재\n",
        "#하므로 그거 가져와서 쓰면됨.\n",
        "(train_images, train_labels), (test_images, test_labels) = mnist.load_data()"
      ],
      "metadata": {
        "colab": {
          "base_uri": "https://localhost:8080/"
        },
        "id": "AZhldd1LjtRg",
        "outputId": "e10f8002-11d2-432a-a55c-4fbec6be112d"
      },
      "execution_count": 6,
      "outputs": [
        {
          "output_type": "stream",
          "name": "stdout",
          "text": [
            "Downloading data from https://storage.googleapis.com/tensorflow/tf-keras-datasets/mnist.npz\n",
            "11493376/11490434 [==============================] - 0s 0us/step\n",
            "11501568/11490434 [==============================] - 0s 0us/step\n"
          ]
        }
      ]
    },
    {
      "cell_type": "code",
      "source": [
        "len(train_images), len(test_images)"
      ],
      "metadata": {
        "colab": {
          "base_uri": "https://localhost:8080/"
        },
        "id": "qwicpxB0kbxz",
        "outputId": "9e1ad5f4-cd3e-4379-e122-c40c19ab155c"
      },
      "execution_count": 7,
      "outputs": [
        {
          "output_type": "execute_result",
          "data": {
            "text/plain": [
              "(60000, 10000)"
            ]
          },
          "metadata": {},
          "execution_count": 7
        }
      ]
    },
    {
      "cell_type": "code",
      "source": [
        "# input data에 대해 normalize를 해준다 0~1 사이로 --> 텐서플로우가 실수에서 동작을 주로 시키기\n",
        "#때문에\n",
        "train_images = train_images / 255.0\n",
        "test_images = test_images / 255.0"
      ],
      "metadata": {
        "id": "wwxe5iFVOaPz"
      },
      "execution_count": 8,
      "outputs": []
    },
    {
      "cell_type": "code",
      "source": [
        "# 모델 정의\n",
        "model = keras.Sequential([ # 이렇게 리스트 안에 레이어들을 넣어준다., \n",
        "                          #리스트 형태로 만들면 자동으로 ★리니어 스택 형태가 된다.★\n",
        "                         keras.layers.Flatten(input_shape=(28, 28)),\n",
        "                          keras.layers.Reshape(target_shape=(28, 28, 1)),\n",
        "                          keras.layers.Conv2D(filters=32, kernel_size=(3, 3), activation=tf.nn.relu),\n",
        "                          keras.layers.Conv2D(filters=64, kernel_size=(3, 3), activation=tf.nn.relu),\n",
        "                          keras.layers.MaxPooling2D(pool_size=(2, 2)),\n",
        "                          keras.layers.Dropout(0.25),\n",
        "                          keras.layers.Flatten(input_shape=(28, 28)),\n",
        "                          keras.layers.Dropout(0.5),\n",
        "                          keras.layers.Dense(num_classes, activation='softmax')\n",
        "                          # tf.nn.softmax로 써도 됨\n",
        "])\n",
        "model.compile(optimizer='adam', loss=tf.keras.losses.SparseCategoricalCrossentropy(from_logits=True), metrics=['accuracy'])\n",
        "# 지금 mnist문제는 Multi Classification 문제라서 sparse_categorical_crossentropy를 Cost 함수\n",
        "#형성 방식으로 사용"
      ],
      "metadata": {
        "id": "KM5VB_4nOyEZ"
      },
      "execution_count": 9,
      "outputs": []
    },
    {
      "cell_type": "code",
      "source": [
        "# 모델을 저장해보자~~~~\n",
        "filepath = '/model/digits_model.h5'\n",
        "modelCheckPoint = tf.keras.callbacks.ModelCheckpoint(filepath=filepath, save_best_only=True)"
      ],
      "metadata": {
        "id": "hdZ5yJH9uW-D"
      },
      "execution_count": 14,
      "outputs": []
    },
    {
      "cell_type": "code",
      "source": [
        "history = model.fit(train_images, train_labels, validation_data=(test_images, test_labels), epochs=epochs, batch_size=batch_size, callbacks=[modelCheckPoint])"
      ],
      "metadata": {
        "colab": {
          "base_uri": "https://localhost:8080/"
        },
        "id": "11QbVzcJQ9Hc",
        "outputId": "076252f2-a4f1-4d3f-a7f5-f0968a684813"
      },
      "execution_count": 15,
      "outputs": [
        {
          "output_type": "stream",
          "name": "stdout",
          "text": [
            "Epoch 1/100\n",
            "500/500 [==============================] - 4s 8ms/step - loss: 0.0518 - accuracy: 0.9839 - val_loss: 0.0405 - val_accuracy: 0.9869\n",
            "Epoch 2/100\n",
            "500/500 [==============================] - 4s 8ms/step - loss: 0.0462 - accuracy: 0.9857 - val_loss: 0.0345 - val_accuracy: 0.9888\n",
            "Epoch 3/100\n",
            "500/500 [==============================] - 4s 8ms/step - loss: 0.0419 - accuracy: 0.9865 - val_loss: 0.0324 - val_accuracy: 0.9901\n",
            "Epoch 4/100\n",
            "500/500 [==============================] - 4s 8ms/step - loss: 0.0397 - accuracy: 0.9874 - val_loss: 0.0313 - val_accuracy: 0.9892\n",
            "Epoch 5/100\n",
            "500/500 [==============================] - 4s 8ms/step - loss: 0.0371 - accuracy: 0.9882 - val_loss: 0.0330 - val_accuracy: 0.9894\n",
            "Epoch 6/100\n",
            "500/500 [==============================] - 4s 8ms/step - loss: 0.0338 - accuracy: 0.9892 - val_loss: 0.0303 - val_accuracy: 0.9901\n",
            "Epoch 7/100\n",
            "500/500 [==============================] - 5s 9ms/step - loss: 0.0322 - accuracy: 0.9893 - val_loss: 0.0275 - val_accuracy: 0.9902\n",
            "Epoch 8/100\n",
            "500/500 [==============================] - 4s 8ms/step - loss: 0.0324 - accuracy: 0.9894 - val_loss: 0.0306 - val_accuracy: 0.9896\n",
            "Epoch 9/100\n",
            "500/500 [==============================] - 4s 8ms/step - loss: 0.0301 - accuracy: 0.9897 - val_loss: 0.0283 - val_accuracy: 0.9907\n",
            "Epoch 10/100\n",
            "500/500 [==============================] - 4s 8ms/step - loss: 0.0278 - accuracy: 0.9907 - val_loss: 0.0294 - val_accuracy: 0.9908\n",
            "Epoch 11/100\n",
            "500/500 [==============================] - 4s 8ms/step - loss: 0.0271 - accuracy: 0.9909 - val_loss: 0.0294 - val_accuracy: 0.9899\n",
            "Epoch 12/100\n",
            "500/500 [==============================] - 4s 8ms/step - loss: 0.0246 - accuracy: 0.9920 - val_loss: 0.0291 - val_accuracy: 0.9906\n",
            "Epoch 13/100\n",
            "500/500 [==============================] - 4s 8ms/step - loss: 0.0253 - accuracy: 0.9916 - val_loss: 0.0296 - val_accuracy: 0.9910\n",
            "Epoch 14/100\n",
            "500/500 [==============================] - 4s 8ms/step - loss: 0.0228 - accuracy: 0.9928 - val_loss: 0.0304 - val_accuracy: 0.9902\n",
            "Epoch 15/100\n",
            "500/500 [==============================] - 4s 8ms/step - loss: 0.0222 - accuracy: 0.9926 - val_loss: 0.0310 - val_accuracy: 0.9902\n",
            "Epoch 16/100\n",
            "500/500 [==============================] - 4s 8ms/step - loss: 0.0223 - accuracy: 0.9923 - val_loss: 0.0289 - val_accuracy: 0.9914\n",
            "Epoch 17/100\n",
            "500/500 [==============================] - 4s 8ms/step - loss: 0.0217 - accuracy: 0.9928 - val_loss: 0.0290 - val_accuracy: 0.9911\n",
            "Epoch 18/100\n",
            "500/500 [==============================] - 4s 8ms/step - loss: 0.0199 - accuracy: 0.9932 - val_loss: 0.0297 - val_accuracy: 0.9915\n",
            "Epoch 19/100\n",
            "500/500 [==============================] - 4s 8ms/step - loss: 0.0182 - accuracy: 0.9935 - val_loss: 0.0305 - val_accuracy: 0.9911\n",
            "Epoch 20/100\n",
            "500/500 [==============================] - 4s 8ms/step - loss: 0.0192 - accuracy: 0.9934 - val_loss: 0.0311 - val_accuracy: 0.9908\n",
            "Epoch 21/100\n",
            "500/500 [==============================] - 4s 8ms/step - loss: 0.0172 - accuracy: 0.9940 - val_loss: 0.0310 - val_accuracy: 0.9906\n",
            "Epoch 22/100\n",
            "500/500 [==============================] - 4s 8ms/step - loss: 0.0187 - accuracy: 0.9934 - val_loss: 0.0313 - val_accuracy: 0.9913\n",
            "Epoch 23/100\n",
            "500/500 [==============================] - 4s 8ms/step - loss: 0.0178 - accuracy: 0.9941 - val_loss: 0.0317 - val_accuracy: 0.9915\n",
            "Epoch 24/100\n",
            "500/500 [==============================] - 4s 8ms/step - loss: 0.0184 - accuracy: 0.9939 - val_loss: 0.0309 - val_accuracy: 0.9916\n",
            "Epoch 25/100\n",
            "500/500 [==============================] - 4s 8ms/step - loss: 0.0159 - accuracy: 0.9944 - val_loss: 0.0318 - val_accuracy: 0.9909\n",
            "Epoch 26/100\n",
            "500/500 [==============================] - 4s 8ms/step - loss: 0.0151 - accuracy: 0.9951 - val_loss: 0.0363 - val_accuracy: 0.9905\n",
            "Epoch 27/100\n",
            "500/500 [==============================] - 4s 8ms/step - loss: 0.0155 - accuracy: 0.9947 - val_loss: 0.0341 - val_accuracy: 0.9913\n",
            "Epoch 28/100\n",
            "500/500 [==============================] - 4s 8ms/step - loss: 0.0157 - accuracy: 0.9944 - val_loss: 0.0310 - val_accuracy: 0.9912\n",
            "Epoch 29/100\n",
            "500/500 [==============================] - 4s 8ms/step - loss: 0.0145 - accuracy: 0.9951 - val_loss: 0.0353 - val_accuracy: 0.9909\n",
            "Epoch 30/100\n",
            "500/500 [==============================] - 4s 8ms/step - loss: 0.0147 - accuracy: 0.9952 - val_loss: 0.0346 - val_accuracy: 0.9912\n",
            "Epoch 31/100\n",
            "500/500 [==============================] - 4s 8ms/step - loss: 0.0141 - accuracy: 0.9948 - val_loss: 0.0299 - val_accuracy: 0.9919\n",
            "Epoch 32/100\n",
            "500/500 [==============================] - 4s 8ms/step - loss: 0.0167 - accuracy: 0.9942 - val_loss: 0.0308 - val_accuracy: 0.9911\n",
            "Epoch 33/100\n",
            "500/500 [==============================] - 4s 8ms/step - loss: 0.0141 - accuracy: 0.9951 - val_loss: 0.0336 - val_accuracy: 0.9912\n",
            "Epoch 34/100\n",
            "500/500 [==============================] - 4s 8ms/step - loss: 0.0122 - accuracy: 0.9958 - val_loss: 0.0303 - val_accuracy: 0.9920\n",
            "Epoch 35/100\n",
            "500/500 [==============================] - 4s 8ms/step - loss: 0.0139 - accuracy: 0.9951 - val_loss: 0.0310 - val_accuracy: 0.9932\n",
            "Epoch 36/100\n",
            "500/500 [==============================] - 4s 8ms/step - loss: 0.0142 - accuracy: 0.9949 - val_loss: 0.0324 - val_accuracy: 0.9910\n",
            "Epoch 37/100\n",
            "500/500 [==============================] - 4s 8ms/step - loss: 0.0117 - accuracy: 0.9959 - val_loss: 0.0297 - val_accuracy: 0.9921\n",
            "Epoch 38/100\n",
            "500/500 [==============================] - 4s 8ms/step - loss: 0.0127 - accuracy: 0.9955 - val_loss: 0.0318 - val_accuracy: 0.9916\n",
            "Epoch 39/100\n",
            "500/500 [==============================] - 4s 9ms/step - loss: 0.0129 - accuracy: 0.9955 - val_loss: 0.0309 - val_accuracy: 0.9922\n",
            "Epoch 40/100\n",
            "500/500 [==============================] - 4s 8ms/step - loss: 0.0119 - accuracy: 0.9958 - val_loss: 0.0301 - val_accuracy: 0.9918\n",
            "Epoch 41/100\n",
            "500/500 [==============================] - 4s 8ms/step - loss: 0.0117 - accuracy: 0.9959 - val_loss: 0.0345 - val_accuracy: 0.9913\n",
            "Epoch 42/100\n",
            "500/500 [==============================] - 4s 8ms/step - loss: 0.0114 - accuracy: 0.9958 - val_loss: 0.0331 - val_accuracy: 0.9917\n",
            "Epoch 43/100\n",
            "500/500 [==============================] - 4s 8ms/step - loss: 0.0111 - accuracy: 0.9963 - val_loss: 0.0350 - val_accuracy: 0.9921\n",
            "Epoch 44/100\n",
            "500/500 [==============================] - 4s 8ms/step - loss: 0.0120 - accuracy: 0.9956 - val_loss: 0.0331 - val_accuracy: 0.9921\n",
            "Epoch 45/100\n",
            "500/500 [==============================] - 4s 8ms/step - loss: 0.0120 - accuracy: 0.9958 - val_loss: 0.0337 - val_accuracy: 0.9920\n",
            "Epoch 46/100\n",
            "500/500 [==============================] - 4s 8ms/step - loss: 0.0116 - accuracy: 0.9959 - val_loss: 0.0323 - val_accuracy: 0.9919\n",
            "Epoch 47/100\n",
            "500/500 [==============================] - 4s 8ms/step - loss: 0.0115 - accuracy: 0.9960 - val_loss: 0.0317 - val_accuracy: 0.9926\n",
            "Epoch 48/100\n",
            "500/500 [==============================] - 4s 8ms/step - loss: 0.0100 - accuracy: 0.9964 - val_loss: 0.0352 - val_accuracy: 0.9926\n",
            "Epoch 49/100\n",
            "500/500 [==============================] - 4s 8ms/step - loss: 0.0113 - accuracy: 0.9962 - val_loss: 0.0370 - val_accuracy: 0.9921\n",
            "Epoch 50/100\n",
            "500/500 [==============================] - 4s 8ms/step - loss: 0.0118 - accuracy: 0.9959 - val_loss: 0.0300 - val_accuracy: 0.9918\n",
            "Epoch 51/100\n",
            "500/500 [==============================] - 4s 8ms/step - loss: 0.0102 - accuracy: 0.9966 - val_loss: 0.0362 - val_accuracy: 0.9913\n",
            "Epoch 52/100\n",
            "500/500 [==============================] - 4s 8ms/step - loss: 0.0117 - accuracy: 0.9958 - val_loss: 0.0324 - val_accuracy: 0.9922\n",
            "Epoch 53/100\n",
            "500/500 [==============================] - 4s 8ms/step - loss: 0.0107 - accuracy: 0.9964 - val_loss: 0.0317 - val_accuracy: 0.9927\n",
            "Epoch 54/100\n",
            "500/500 [==============================] - 4s 9ms/step - loss: 0.0111 - accuracy: 0.9962 - val_loss: 0.0325 - val_accuracy: 0.9929\n",
            "Epoch 55/100\n",
            "500/500 [==============================] - 4s 8ms/step - loss: 0.0092 - accuracy: 0.9968 - val_loss: 0.0342 - val_accuracy: 0.9918\n",
            "Epoch 56/100\n",
            "500/500 [==============================] - 4s 8ms/step - loss: 0.0103 - accuracy: 0.9963 - val_loss: 0.0363 - val_accuracy: 0.9915\n",
            "Epoch 57/100\n",
            "500/500 [==============================] - 4s 8ms/step - loss: 0.0104 - accuracy: 0.9963 - val_loss: 0.0370 - val_accuracy: 0.9915\n",
            "Epoch 58/100\n",
            "500/500 [==============================] - 4s 8ms/step - loss: 0.0092 - accuracy: 0.9969 - val_loss: 0.0355 - val_accuracy: 0.9921\n",
            "Epoch 59/100\n",
            "500/500 [==============================] - 4s 8ms/step - loss: 0.0102 - accuracy: 0.9963 - val_loss: 0.0367 - val_accuracy: 0.9916\n",
            "Epoch 60/100\n",
            "500/500 [==============================] - 4s 8ms/step - loss: 0.0103 - accuracy: 0.9966 - val_loss: 0.0382 - val_accuracy: 0.9918\n",
            "Epoch 61/100\n",
            "500/500 [==============================] - 4s 8ms/step - loss: 0.0091 - accuracy: 0.9967 - val_loss: 0.0356 - val_accuracy: 0.9919\n",
            "Epoch 62/100\n",
            "500/500 [==============================] - 4s 8ms/step - loss: 0.0096 - accuracy: 0.9966 - val_loss: 0.0374 - val_accuracy: 0.9922\n",
            "Epoch 63/100\n",
            "500/500 [==============================] - 4s 8ms/step - loss: 0.0102 - accuracy: 0.9966 - val_loss: 0.0351 - val_accuracy: 0.9925\n",
            "Epoch 64/100\n",
            "500/500 [==============================] - 4s 8ms/step - loss: 0.0110 - accuracy: 0.9964 - val_loss: 0.0339 - val_accuracy: 0.9926\n",
            "Epoch 65/100\n",
            "500/500 [==============================] - 4s 8ms/step - loss: 0.0080 - accuracy: 0.9972 - val_loss: 0.0319 - val_accuracy: 0.9923\n",
            "Epoch 66/100\n",
            "500/500 [==============================] - 4s 8ms/step - loss: 0.0081 - accuracy: 0.9970 - val_loss: 0.0370 - val_accuracy: 0.9923\n",
            "Epoch 67/100\n",
            "500/500 [==============================] - 4s 8ms/step - loss: 0.0082 - accuracy: 0.9970 - val_loss: 0.0376 - val_accuracy: 0.9917\n",
            "Epoch 68/100\n",
            "500/500 [==============================] - 4s 8ms/step - loss: 0.0082 - accuracy: 0.9972 - val_loss: 0.0357 - val_accuracy: 0.9919\n",
            "Epoch 69/100\n",
            "500/500 [==============================] - 4s 8ms/step - loss: 0.0092 - accuracy: 0.9968 - val_loss: 0.0336 - val_accuracy: 0.9924\n",
            "Epoch 70/100\n",
            "500/500 [==============================] - 4s 9ms/step - loss: 0.0077 - accuracy: 0.9970 - val_loss: 0.0368 - val_accuracy: 0.9929\n",
            "Epoch 71/100\n",
            "500/500 [==============================] - 4s 8ms/step - loss: 0.0090 - accuracy: 0.9969 - val_loss: 0.0333 - val_accuracy: 0.9923\n",
            "Epoch 72/100\n",
            "500/500 [==============================] - 4s 8ms/step - loss: 0.0087 - accuracy: 0.9971 - val_loss: 0.0337 - val_accuracy: 0.9927\n",
            "Epoch 73/100\n",
            "500/500 [==============================] - 4s 8ms/step - loss: 0.0089 - accuracy: 0.9966 - val_loss: 0.0338 - val_accuracy: 0.9934\n",
            "Epoch 74/100\n",
            "500/500 [==============================] - 4s 8ms/step - loss: 0.0085 - accuracy: 0.9970 - val_loss: 0.0342 - val_accuracy: 0.9920\n",
            "Epoch 75/100\n",
            "500/500 [==============================] - 4s 8ms/step - loss: 0.0076 - accuracy: 0.9973 - val_loss: 0.0350 - val_accuracy: 0.9921\n",
            "Epoch 76/100\n",
            "500/500 [==============================] - 4s 8ms/step - loss: 0.0093 - accuracy: 0.9964 - val_loss: 0.0340 - val_accuracy: 0.9921\n",
            "Epoch 77/100\n",
            "500/500 [==============================] - 4s 8ms/step - loss: 0.0084 - accuracy: 0.9969 - val_loss: 0.0392 - val_accuracy: 0.9920\n",
            "Epoch 78/100\n",
            "500/500 [==============================] - 4s 8ms/step - loss: 0.0079 - accuracy: 0.9974 - val_loss: 0.0365 - val_accuracy: 0.9920\n",
            "Epoch 79/100\n",
            "500/500 [==============================] - 4s 8ms/step - loss: 0.0080 - accuracy: 0.9970 - val_loss: 0.0382 - val_accuracy: 0.9917\n",
            "Epoch 80/100\n",
            "500/500 [==============================] - 4s 8ms/step - loss: 0.0091 - accuracy: 0.9969 - val_loss: 0.0355 - val_accuracy: 0.9923\n",
            "Epoch 81/100\n",
            "500/500 [==============================] - 4s 8ms/step - loss: 0.0080 - accuracy: 0.9970 - val_loss: 0.0377 - val_accuracy: 0.9923\n",
            "Epoch 82/100\n",
            "500/500 [==============================] - 4s 8ms/step - loss: 0.0077 - accuracy: 0.9976 - val_loss: 0.0363 - val_accuracy: 0.9916\n",
            "Epoch 83/100\n",
            "500/500 [==============================] - 4s 8ms/step - loss: 0.0087 - accuracy: 0.9971 - val_loss: 0.0341 - val_accuracy: 0.9922\n",
            "Epoch 84/100\n",
            "500/500 [==============================] - 4s 8ms/step - loss: 0.0080 - accuracy: 0.9973 - val_loss: 0.0408 - val_accuracy: 0.9908\n",
            "Epoch 85/100\n",
            "500/500 [==============================] - 4s 8ms/step - loss: 0.0073 - accuracy: 0.9975 - val_loss: 0.0377 - val_accuracy: 0.9923\n",
            "Epoch 86/100\n",
            "500/500 [==============================] - 5s 9ms/step - loss: 0.0082 - accuracy: 0.9969 - val_loss: 0.0372 - val_accuracy: 0.9924\n",
            "Epoch 87/100\n",
            "500/500 [==============================] - 4s 8ms/step - loss: 0.0084 - accuracy: 0.9969 - val_loss: 0.0375 - val_accuracy: 0.9928\n",
            "Epoch 88/100\n",
            "500/500 [==============================] - 4s 8ms/step - loss: 0.0072 - accuracy: 0.9974 - val_loss: 0.0375 - val_accuracy: 0.9931\n",
            "Epoch 89/100\n",
            "500/500 [==============================] - 4s 8ms/step - loss: 0.0075 - accuracy: 0.9974 - val_loss: 0.0479 - val_accuracy: 0.9902\n",
            "Epoch 90/100\n",
            "500/500 [==============================] - 4s 8ms/step - loss: 0.0072 - accuracy: 0.9976 - val_loss: 0.0377 - val_accuracy: 0.9919\n",
            "Epoch 91/100\n",
            "500/500 [==============================] - 4s 8ms/step - loss: 0.0070 - accuracy: 0.9974 - val_loss: 0.0344 - val_accuracy: 0.9925\n",
            "Epoch 92/100\n",
            "500/500 [==============================] - 4s 8ms/step - loss: 0.0073 - accuracy: 0.9976 - val_loss: 0.0387 - val_accuracy: 0.9926\n",
            "Epoch 93/100\n",
            "500/500 [==============================] - 4s 8ms/step - loss: 0.0073 - accuracy: 0.9975 - val_loss: 0.0367 - val_accuracy: 0.9924\n",
            "Epoch 94/100\n",
            "500/500 [==============================] - 4s 8ms/step - loss: 0.0069 - accuracy: 0.9978 - val_loss: 0.0385 - val_accuracy: 0.9925\n",
            "Epoch 95/100\n",
            "500/500 [==============================] - 4s 8ms/step - loss: 0.0072 - accuracy: 0.9975 - val_loss: 0.0381 - val_accuracy: 0.9924\n",
            "Epoch 96/100\n",
            "500/500 [==============================] - 4s 8ms/step - loss: 0.0085 - accuracy: 0.9972 - val_loss: 0.0387 - val_accuracy: 0.9924\n",
            "Epoch 97/100\n",
            "500/500 [==============================] - 4s 8ms/step - loss: 0.0076 - accuracy: 0.9976 - val_loss: 0.0418 - val_accuracy: 0.9921\n",
            "Epoch 98/100\n",
            "500/500 [==============================] - 4s 8ms/step - loss: 0.0071 - accuracy: 0.9975 - val_loss: 0.0403 - val_accuracy: 0.9922\n",
            "Epoch 99/100\n",
            "500/500 [==============================] - 4s 8ms/step - loss: 0.0079 - accuracy: 0.9971 - val_loss: 0.0407 - val_accuracy: 0.9915\n",
            "Epoch 100/100\n",
            "500/500 [==============================] - 4s 8ms/step - loss: 0.0072 - accuracy: 0.9977 - val_loss: 0.0374 - val_accuracy: 0.9920\n"
          ]
        }
      ]
    },
    {
      "cell_type": "code",
      "source": [
        "test_loss, test_acc = model.evaluate(test_images, test_labels)\n",
        "print(test_loss, test_acc)\n",
        "# 테스트 값들로 평가 진행 -> loss, accuracy 값 확인 가능"
      ],
      "metadata": {
        "colab": {
          "base_uri": "https://localhost:8080/"
        },
        "id": "EYYlytRhRcjj",
        "outputId": "9bf7e9da-8803-4f76-fa7a-acdcdf9f5575"
      },
      "execution_count": 12,
      "outputs": [
        {
          "output_type": "stream",
          "name": "stdout",
          "text": [
            "313/313 [==============================] - 2s 5ms/step - loss: 0.0386 - accuracy: 0.9874\n",
            "0.03857832029461861 0.9873999953269958\n"
          ]
        }
      ]
    },
    {
      "cell_type": "code",
      "source": [
        "def download(path):\n",
        "  try:\n",
        "    from google.colab import files\n",
        "    files.download(path)\n",
        "  except ImportError:\n",
        "    import os\n",
        "    print('Error download', os.path.join(os.getcwd(), path))"
      ],
      "metadata": {
        "id": "SW19VmlR3h27"
      },
      "execution_count": 16,
      "outputs": []
    },
    {
      "cell_type": "code",
      "source": [
        "download(filepath)"
      ],
      "metadata": {
        "colab": {
          "base_uri": "https://localhost:8080/",
          "height": 17
        },
        "id": "EiUkQ9zg3_bC",
        "outputId": "9be8b028-9052-464d-ba65-682d7c2bc68b"
      },
      "execution_count": 17,
      "outputs": [
        {
          "output_type": "display_data",
          "data": {
            "text/plain": [
              "<IPython.core.display.Javascript object>"
            ],
            "application/javascript": [
              "\n",
              "    async function download(id, filename, size) {\n",
              "      if (!google.colab.kernel.accessAllowed) {\n",
              "        return;\n",
              "      }\n",
              "      const div = document.createElement('div');\n",
              "      const label = document.createElement('label');\n",
              "      label.textContent = `Downloading \"${filename}\": `;\n",
              "      div.appendChild(label);\n",
              "      const progress = document.createElement('progress');\n",
              "      progress.max = size;\n",
              "      div.appendChild(progress);\n",
              "      document.body.appendChild(div);\n",
              "\n",
              "      const buffers = [];\n",
              "      let downloaded = 0;\n",
              "\n",
              "      const channel = await google.colab.kernel.comms.open(id);\n",
              "      // Send a message to notify the kernel that we're ready.\n",
              "      channel.send({})\n",
              "\n",
              "      for await (const message of channel.messages) {\n",
              "        // Send a message to notify the kernel that we're ready.\n",
              "        channel.send({})\n",
              "        if (message.buffers) {\n",
              "          for (const buffer of message.buffers) {\n",
              "            buffers.push(buffer);\n",
              "            downloaded += buffer.byteLength;\n",
              "            progress.value = downloaded;\n",
              "          }\n",
              "        }\n",
              "      }\n",
              "      const blob = new Blob(buffers, {type: 'application/binary'});\n",
              "      const a = document.createElement('a');\n",
              "      a.href = window.URL.createObjectURL(blob);\n",
              "      a.download = filename;\n",
              "      div.appendChild(a);\n",
              "      a.click();\n",
              "      div.remove();\n",
              "    }\n",
              "  "
            ]
          },
          "metadata": {}
        },
        {
          "output_type": "display_data",
          "data": {
            "text/plain": [
              "<IPython.core.display.Javascript object>"
            ],
            "application/javascript": [
              "download(\"download_3b703054-d079-4f3e-bebc-73b31f2d3f0c\", \"digits_model.h5\", 1375344)"
            ]
          },
          "metadata": {}
        }
      ]
    },
    {
      "cell_type": "code",
      "source": [
        "savefile = 'saved_digits.h5'\n",
        "model.save(savefile)"
      ],
      "metadata": {
        "id": "7sfJSrdJ6gbN"
      },
      "execution_count": 18,
      "outputs": []
    },
    {
      "cell_type": "code",
      "source": [
        "model.summary()"
      ],
      "metadata": {
        "colab": {
          "base_uri": "https://localhost:8080/"
        },
        "id": "qips1iUq6vVM",
        "outputId": "ed3650d6-91d3-47c5-d561-8c592d257e01"
      },
      "execution_count": 19,
      "outputs": [
        {
          "output_type": "stream",
          "name": "stdout",
          "text": [
            "Model: \"sequential\"\n",
            "_________________________________________________________________\n",
            " Layer (type)                Output Shape              Param #   \n",
            "=================================================================\n",
            " flatten (Flatten)           (None, 784)               0         \n",
            "                                                                 \n",
            " reshape (Reshape)           (None, 28, 28, 1)         0         \n",
            "                                                                 \n",
            " conv2d (Conv2D)             (None, 26, 26, 32)        320       \n",
            "                                                                 \n",
            " conv2d_1 (Conv2D)           (None, 24, 24, 64)        18496     \n",
            "                                                                 \n",
            " max_pooling2d (MaxPooling2D  (None, 12, 12, 64)       0         \n",
            " )                                                               \n",
            "                                                                 \n",
            " dropout (Dropout)           (None, 12, 12, 64)        0         \n",
            "                                                                 \n",
            " flatten_1 (Flatten)         (None, 9216)              0         \n",
            "                                                                 \n",
            " dropout_1 (Dropout)         (None, 9216)              0         \n",
            "                                                                 \n",
            " dense (Dense)               (None, 10)                92170     \n",
            "                                                                 \n",
            "=================================================================\n",
            "Total params: 110,986\n",
            "Trainable params: 110,986\n",
            "Non-trainable params: 0\n",
            "_________________________________________________________________\n"
          ]
        }
      ]
    },
    {
      "cell_type": "code",
      "source": [
        "!ls -al"
      ],
      "metadata": {
        "colab": {
          "base_uri": "https://localhost:8080/"
        },
        "id": "_EXTeqsT6zQU",
        "outputId": "0fb047f6-9138-469e-f55b-c2f9b084c4d9"
      },
      "execution_count": 20,
      "outputs": [
        {
          "output_type": "stream",
          "name": "stdout",
          "text": [
            "total 1364\n",
            "drwxr-xr-x 1 root root    4096 Jul 23 02:37 .\n",
            "drwxr-xr-x 1 root root    4096 Jul 23 02:16 ..\n",
            "drwxr-xr-x 4 root root    4096 Jul 13 13:42 .config\n",
            "drwx------ 5 root root    4096 Jul 23 02:13 drive\n",
            "drwxr-xr-x 1 root root    4096 Jul 13 13:43 sample_data\n",
            "-rw-r--r-- 1 root root 1375344 Jul 23 02:37 saved_digits.h5\n"
          ]
        }
      ]
    },
    {
      "cell_type": "code",
      "source": [
        "# 저장했떤 모델을 로드해보자\n",
        "load_model = tf.keras.models.load_model(savefile)\n",
        "load_model.summary()"
      ],
      "metadata": {
        "colab": {
          "base_uri": "https://localhost:8080/"
        },
        "id": "BMwdm2zT7g4U",
        "outputId": "a59ccca7-164f-4191-88a5-7d89a9613601"
      },
      "execution_count": 21,
      "outputs": [
        {
          "output_type": "stream",
          "name": "stdout",
          "text": [
            "Model: \"sequential\"\n",
            "_________________________________________________________________\n",
            " Layer (type)                Output Shape              Param #   \n",
            "=================================================================\n",
            " flatten (Flatten)           (None, 784)               0         \n",
            "                                                                 \n",
            " reshape (Reshape)           (None, 28, 28, 1)         0         \n",
            "                                                                 \n",
            " conv2d (Conv2D)             (None, 26, 26, 32)        320       \n",
            "                                                                 \n",
            " conv2d_1 (Conv2D)           (None, 24, 24, 64)        18496     \n",
            "                                                                 \n",
            " max_pooling2d (MaxPooling2D  (None, 12, 12, 64)       0         \n",
            " )                                                               \n",
            "                                                                 \n",
            " dropout (Dropout)           (None, 12, 12, 64)        0         \n",
            "                                                                 \n",
            " flatten_1 (Flatten)         (None, 9216)              0         \n",
            "                                                                 \n",
            " dropout_1 (Dropout)         (None, 9216)              0         \n",
            "                                                                 \n",
            " dense (Dense)               (None, 10)                92170     \n",
            "                                                                 \n",
            "=================================================================\n",
            "Total params: 110,986\n",
            "Trainable params: 110,986\n",
            "Non-trainable params: 0\n",
            "_________________________________________________________________\n"
          ]
        }
      ]
    }
  ]
}